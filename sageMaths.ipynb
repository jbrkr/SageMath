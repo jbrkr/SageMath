{
 "cells": [
  {
   "cell_type": "markdown",
   "metadata": {},
   "source": [
    "Dynamical Systems"
   ]
  },
  {
   "cell_type": "code",
   "execution_count": 1,
   "metadata": {},
   "outputs": [
    {
     "data": {
      "application/vnd.jupyter.widget-view+json": {
       "model_id": "4d42c322b935481eab0990b4a6705fad",
       "version_major": 2,
       "version_minor": 0
      },
      "text/plain": [
       "Interactive function <function _ at 0x23deab2f0> with 1 widget\n",
       "  order: SelectionSlider(description='order', o…"
      ]
     },
     "metadata": {},
     "output_type": "display_data"
    }
   ],
   "source": [
    "x   = SR.var('x')\n",
    "x0  = 0\n",
    "f   = sin(x) * e^(-x)\n",
    "p   = plot(f, -1, 5, thickness=2)\n",
    "dot = point((x0, f(x=x0)), pointsize=80, rgbcolor=(1, 0, 0))\n",
    "\n",
    "@interact\n",
    "def _(order=slider([1 .. 12])):\n",
    "  ft = f.taylor(x, x0, order)\n",
    "  pt = plot(ft, -1, 5, color='green', thickness=2)\n",
    "  pretty_print(html(r'$f(x)\\;=\\;%s$' % latex(f)))\n",
    "  pretty_print(html(r'$\\hat{f}(x;%s)\\;=\\;%s+\\mathcal{O}(x^{%s})$' % (x0, latex(ft), order+1)))\n",
    "  show(dot + p + pt, ymin=-.5, ymax=1)"
   ]
  },
  {
   "cell_type": "code",
   "execution_count": 2,
   "metadata": {},
   "outputs": [
    {
     "data": {
      "application/vnd.jupyter.widget-view+json": {
       "model_id": "aef4a68c549d4e28a618be26a7e33e7b",
       "version_major": 2,
       "version_minor": 0
      },
      "text/plain": [
       "Interactive function <function cobwebber at 0x2456e8d90> with 3 widgets\n",
       "  f_text: TransformText(value='3.8*x*(…"
      ]
     },
     "metadata": {},
     "output_type": "display_data"
    }
   ],
   "source": [
    "def cobweb(a_function, start, mask = 0, iterations = 20, xmin = 0, xmax = 1):\n",
    "    '''\n",
    "    Returns a graphics object of a plot of the function and a cobweb trajectory starting from the value start.\n",
    "\n",
    "    INPUT:\n",
    "        a_function: a function of one variable\n",
    "        start: the starting value of the iteration\n",
    "        mask: (optional) the number of initial iterates to ignore\n",
    "        iterations: (optional) the number of iterations to draw, following the masked iterations\n",
    "        xmin: (optional) the lower end of the plotted interval\n",
    "        xmax: (optional) the upper end of the plotted interval\n",
    "    \n",
    "    EXAMPLES:\n",
    "        sage: f = lambda x: 3.9*x*(1-x)\n",
    "        sage: show(cobweb(f,.01,iterations=200), xmin = 0, xmax = 1, ymin=0)\n",
    "    \n",
    "    '''\n",
    "    basic_plot = plot(a_function, xmin = xmin, xmax = xmax)\n",
    "    id_plot = plot(lambda x: x, xmin = xmin, xmax = xmax)\n",
    "    iter_list = []\n",
    "    current = start\n",
    "    for i in range(mask):\n",
    "        current = a_function(current)\n",
    "    for i in range(iterations):\n",
    "        iter_list.append([current,a_function(current)])\n",
    "        current = a_function(current)\n",
    "        iter_list.append([current,current])\n",
    "    cobweb = line(iter_list, rgbcolor = (1,0,0))\n",
    "    return basic_plot + id_plot + cobweb\n",
    "var('x')\n",
    "@interact\n",
    "def cobwebber(f_text = input_box(default = \"3.8*x*(1-x)\",label = \"function\", type=str), start_val = slider(0,1,.01,.5,label = 'start value'), its = slider([2^i for i in range(0,12)],default = 16, label=\"iterations\")):\n",
    "    def f(x):\n",
    "        return eval(f_text)\n",
    "    show(cobweb(f, start_val, iterations = its))"
   ]
  },
  {
   "cell_type": "code",
   "execution_count": 3,
   "metadata": {},
   "outputs": [],
   "source": [
    "%%cython\n",
    "cpdef double logorb(double k,long N,double x0):\n",
    "    cdef double x = x0\n",
    "    cdef long i \n",
    "    for i from 1 <= i <= N:\n",
    "        x = k*x*(1-x)\n",
    "    return x\n",
    "\n",
    "cpdef logtraj(double k,long N, double x0):\n",
    "    cdef double x = x0\n",
    "    xvals = []\n",
    "    cdef long i \n",
    "    for i from 1 <= i <= N:\n",
    "        x = k*x*(1-x)\n",
    "        xvals.append(x)\n",
    "    return xvals"
   ]
  },
  {
   "cell_type": "code",
   "execution_count": 4,
   "metadata": {},
   "outputs": [
    {
     "data": {
      "text/html": [
       "<h2>Orbit diagram of the logistic map</h2>"
      ],
      "text/plain": [
       "<h2>Orbit diagram of the logistic map</h2>"
      ]
     },
     "metadata": {},
     "output_type": "display_data"
    },
    {
     "data": {
      "application/vnd.jupyter.widget-view+json": {
       "model_id": "fdd604f7a5b64006a0a8e65b846765f1",
       "version_major": 2,
       "version_minor": 0
      },
      "text/plain": [
       "Interactive function <function logistic_bifs at 0x24614ff28> with 2 widgets\n",
       "  k_min: TransformFloatSlider(valu…"
      ]
     },
     "metadata": {},
     "output_type": "display_data"
    }
   ],
   "source": [
    "pretty_print(html('<h2>Orbit diagram of the logistic map</h2>'))\n",
    "@interact\n",
    "def logistic_bifs(k_min = slider(0.0,4.0,.001,3.5), k_max = slider(0.0,4.0,.001,4.0)):\n",
    "    tkmax = max(k_min, k_max)\n",
    "    tkmin = min(k_min, k_max)\n",
    "    dk = (tkmax - tkmin)/1000.0\n",
    "    xpts = []\n",
    "    x = .5\n",
    "    for k in srange(tkmin,tkmax,dk):\n",
    "        x = logorb(k,100,x)\n",
    "        ks = logtraj(k,12,x)\n",
    "        if max(ks)-min(ks) < .001:\n",
    "            xpts.append([k,x])\n",
    "        else:\n",
    "            x = logorb(k,1000,x)\n",
    "            ks = logtraj(k,100,x)\n",
    "            xpts = xpts + [[k,q] for q in ks]\n",
    "    show(points(xpts, pointsize = 1), figsize = [6,6])"
   ]
  },
  {
   "cell_type": "markdown",
   "metadata": {},
   "source": [
    "<h1>Differential Equations</h1>"
   ]
  },
  {
   "cell_type": "markdown",
   "metadata": {},
   "source": [
    "Vector Fields (euler)"
   ]
  },
  {
   "cell_type": "code",
   "execution_count": 7,
   "metadata": {},
   "outputs": [
    {
     "data": {
      "application/vnd.jupyter.widget-view+json": {
       "model_id": "39e1dfc6c0794078bf97317d15da4187",
       "version_major": 2,
       "version_minor": 0
      },
      "text/plain": [
       "Interactive function <function _ at 0x28c158730> with 10 widgets\n",
       "  f: EvalText(value='y', description='f', lay…"
      ]
     },
     "metadata": {},
     "output_type": "display_data"
    }
   ],
   "source": [
    "x,y = var('x,y')\n",
    "from sage.ext.fast_eval import fast_float\n",
    "@interact\n",
    "def _(f = input_box(default=y), g=input_box(default=-x*y+x^3-x),\n",
    "      xmin=input_box(default=-1), xmax=input_box(default=1),\n",
    "      ymin=input_box(default=-1), ymax=input_box(default=1),\n",
    "      start_x=input_box(default=0.5), start_y=input_box(default=0.5),\n",
    "      step_size=(0.01,(0.001, 0.2)), steps=(600,(0, 1400)) ):\n",
    "    ff = fast_float(f, 'x', 'y')\n",
    "    gg = fast_float(g, 'x', 'y')\n",
    "    steps = int(steps)\n",
    "\n",
    "    points = [ (start_x, start_y) ]\n",
    "    for i in range(steps):\n",
    "        xx, yy = points[-1]\n",
    "        try:\n",
    "            points.append( (xx + step_size * ff(xx,yy), yy + step_size * gg(xx,yy)) )\n",
    "        except (ValueError, ArithmeticError, TypeError):\n",
    "            break\n",
    "\n",
    "    starting_point = point(points[0], pointsize=50)\n",
    "    solution = line(points)\n",
    "    vector_field = plot_vector_field( (f,g), (x,xmin,xmax), (y,ymin,ymax) )\n",
    "\n",
    "    result = vector_field + starting_point + solution\n",
    "\n",
    "    pretty_print(html(r\"$\\displaystyle\\frac{dx}{dt} = %s$  $ \\displaystyle\\frac{dy}{dt} = %s$\" % (latex(f),latex(g))))\n",
    "    result.show(xmin=xmin,xmax=xmax,ymin=ymin,ymax=ymax)"
   ]
  },
  {
   "cell_type": "markdown",
   "metadata": {},
   "source": [
    "Linear 2D Ordinary DiffEqs"
   ]
  },
  {
   "cell_type": "code",
   "execution_count": 8,
   "metadata": {},
   "outputs": [],
   "source": [
    "%%cython\n",
    "cpdef c_euler_m(double t0, double x10, double x20, double tend, int steps, double a11, double a12, double a21, double a22, double cutoff = 10):\n",
    "    cdef double h = (tend-t0)/steps\n",
    "    traj = [[x10,x20]]\n",
    "    cdef double x1current = x10\n",
    "    cdef double x2current = x20\n",
    "    cdef int i\n",
    "    cdef double newx1\n",
    "    cdef double newx2\n",
    "    for i in range(0,steps):\n",
    "        newx1 = x1current + h*a11*x1current + h*a12*x2current\n",
    "        newx2 = x2current + h*a21*x1current + h*a22*x2current\n",
    "        if newx1 > cutoff or newx2 > cutoff or newx1 < -cutoff or newx2 < -cutoff:\n",
    "            break\n",
    "        traj.append([newx1,newx2])\n",
    "        x1current = newx1\n",
    "        x2current = newx2\n",
    "    return traj"
   ]
  },
  {
   "cell_type": "code",
   "execution_count": 9,
   "metadata": {},
   "outputs": [
    {
     "data": {
      "application/vnd.jupyter.widget-view+json": {
       "model_id": "16e091fe3dcf4eaab7d4ea355140c9b1",
       "version_major": 2,
       "version_minor": 0
      },
      "text/plain": [
       "Interactive function <function planarsystem at 0x28c158378> with 5 widgets\n",
       "  a11: SelectionSlider(description=…"
      ]
     },
     "metadata": {},
     "output_type": "display_data"
    }
   ],
   "source": [
    "@interact\n",
    "def planarsystem(a11 = slider(srange(-10,10,1/10),default = -1), a12 = slider(srange(-10,10,1/10),default = -1), a21 = slider(srange(-10,10,1/10),default = 1), a22 = slider(srange(-10,10,1/10),default = -1), time_tracked = slider(srange(1,100,1.0),default=10)):\n",
    "    A = matrix(RDF,[[a11,a12],[a21,a22]])\n",
    "    eigs = A.eigenvalues()\n",
    "    pretty_print(html('<center>$x\\' = Ax$ dynamics<BR>$A = '+latex(A)+'$, eigenvalues: $%2.2f + %2.2fI, %2.2f + %2.2fI$</center>'%(eigs[0].real(),eigs[0].imag(),eigs[1].real(),eigs[1].imag())))\n",
    "    trajs = Graphics()\n",
    "    for q in srange(0,2*pi,.15):\n",
    "        astart = randint(1,10)\n",
    "        ntraj = c_euler_m(0,cos(q),sin(q),time_tracked,300,a11,a12,a21,a22)\n",
    "        for i in range(astart,len(ntraj)-1,10):\n",
    "            trajs = trajs + arrow(ntraj[i],ntraj[i+1],width=1, arrowsize=2)\n",
    "        trajs = trajs + line(ntraj)\n",
    "        ntraj = c_euler_m(0,cos(q),sin(q),-time_tracked,300,a11,a12,a21,a22)\n",
    "        trajs = trajs + line(ntraj)\n",
    "        for i in range(astart,len(ntraj)-1,10):\n",
    "            trajs = trajs + arrow(ntraj[i+1],ntraj[i],width=1, arrowsize=2)\n",
    "    show(trajs, figsize = [6,6], xmin = -1, xmax = 1, ymin = -1, ymax = 1)"
   ]
  },
  {
   "cell_type": "markdown",
   "metadata": {},
   "source": [
    "Geom. Brownian motion, Equities"
   ]
  },
  {
   "cell_type": "code",
   "execution_count": 10,
   "metadata": {},
   "outputs": [
    {
     "data": {
      "application/vnd.jupyter.widget-view+json": {
       "model_id": "2c8185edcede41b0947bd461ac50577b",
       "version_major": 2,
       "version_minor": 0
      },
      "text/plain": [
       "Manual interactive function <function EulerMaruyamaExample at 0x28e4adea0> with 5 widgets\n",
       "  mu: SelectionSlide…"
      ]
     },
     "metadata": {},
     "output_type": "display_data"
    }
   ],
   "source": [
    "def EulerMaruyama(xstart, ystart, xfinish, nsteps, f1, f2): \n",
    "    sol = [ystart] \n",
    "    xvals = [xstart] \n",
    "    h = N((xfinish-xstart)/nsteps) \n",
    "    for step in range(nsteps): \n",
    "        sol.append(sol[-1] + h*f1(sol[-1]) + h^(.5)*f2(sol[-1])*normalvariate(0,1)) \n",
    "        xvals.append(xvals[-1] + h) \n",
    "    return list(zip(xvals,sol))\n",
    "    \n",
    "out = Graphics()\n",
    "save(out,'temp')\n",
    "@interact\n",
    "def EulerMaruyamaExample(mu = slider(srange(0,10,.1),default=2.0),\n",
    "                        sigma = slider(srange(0,10,.1),default=0.5),\n",
    "                        plots_at_a_time = slider(range(1,100),default=10), \n",
    "                        number_of_steps = slider(range(1,1000),default=100), \n",
    "                        clear_plot = checkbox(True), \n",
    "                        auto_update=False):\n",
    "    html('<center>Example of the Euler-Maruyama method applied to<br>the stochastic differential equation for geometric Brownian motion</center>')\n",
    "    html(r'<center>$S = S_0 + \\int_0^t \\mu S dt + \\int_0^t \\sigma S dW$</center>')\n",
    "    emplot = list_plot(EulerMaruyama(0,1,1,number_of_steps,lambda x: mu*x,lambda x:sigma*x),plotjoined=True)\n",
    "    for i in range(1,plots_at_a_time):\n",
    "        emplot = emplot + list_plot(EulerMaruyama(0,1,1,100,lambda x: mu*x,lambda x:sigma*x),plotjoined=True)\n",
    "    if clear_plot:\n",
    "        out = emplot\n",
    "        save(out,'temp')\n",
    "    else:\n",
    "        out = load('temp')\n",
    "        out = out + emplot\n",
    "        save(out,'temp')\n",
    "    show(out, figsize = [8,5])"
   ]
  },
  {
   "cell_type": "markdown",
   "metadata": {},
   "source": [
    "Autonomous equations + stable & unstable fixed points"
   ]
  },
  {
   "cell_type": "code",
   "execution_count": 11,
   "metadata": {},
   "outputs": [],
   "source": [
    "%%cython\n",
    "cpdef RK4_1d(f, double t_start, double y_start, double t_end, int steps, double y_upper = 10**6, double y_lower = -10**6):\n",
    "    '''\n",
    "    Fourth-order scalar Runge-Kutta solver with fixed time steps. f must be a function of t,y, \n",
    "    where y is just a scalar variable.\n",
    "    '''\n",
    "    cdef double step_size = (t_end - t_start)/steps\n",
    "    cdef double t_current = t_start\n",
    "    cdef double y_current = y_start\n",
    "    cdef list answer_table = []\n",
    "    cdef int j\n",
    "    answer_table.append([t_current,y_current])\n",
    "    for j in range(0,steps):\n",
    "        k1=f(t_current, y_current)\n",
    "        k2=f(t_current+step_size/2, y_current + k1*step_size/2)\n",
    "        k3=f(t_current+step_size/2, y_current + k2*step_size/2)\n",
    "        k4=f(t_current+step_size, y_current + k3*step_size)\n",
    "        t_current += step_size\n",
    "        y_current = y_current + (step_size/6)*(k1+2*k2+2*k3+k4)\n",
    "        if y_current > y_upper or y_current < y_lower: \n",
    "            j = steps\n",
    "        answer_table.append([t_current,y_current])\n",
    "    return answer_table"
   ]
  },
  {
   "cell_type": "code",
   "execution_count": 12,
   "metadata": {},
   "outputs": [
    {
     "data": {
      "application/vnd.jupyter.widget-view+json": {
       "model_id": "ed5ecf1d05154dc48c3c4f9b101ca73d",
       "version_major": 2,
       "version_minor": 0
      },
      "text/plain": [
       "Interactive function <function autonomous_plot at 0x28c158ae8> with 2 widgets\n",
       "  poly: EvalText(value='(x - 1)*…"
      ]
     },
     "metadata": {},
     "output_type": "display_data"
    }
   ],
   "source": [
    "from sage.rings.polynomial.real_roots import *\n",
    "var('x')\n",
    "@interact\n",
    "def autonomous_plot(poly=input_box(x*(x-1)*(x-2),label='polynomial'), t_end = slider(1,10,step_size = .1)): \n",
    "    var('x')   \n",
    "    y = polygen(ZZ)\n",
    "    ypoly = sage_eval(repr(poly).replace('x','y'),locals=locals())\n",
    "    rr = real_roots(ypoly, max_diameter = 1/100)\n",
    "    eps = 0.2\n",
    "    delvals = .04\n",
    "    minr = min([x[0][0] for x in rr])\n",
    "    maxr = max([x[0][1] for x in rr])\n",
    "    svals = [(minr-eps)*t+(1-t)*(maxr+eps) for t in srange(0,1+delvals,delvals)]\n",
    "    def polyf(t,xi):\n",
    "        return poly(x=xi)\n",
    "    paths = [RK4_1d(polyf,0.0,q,t_end,100.0) for q in svals]    \n",
    "    miny = max(minr-eps,min([min([q1[1] for q1 in q]) for q in paths]))\n",
    "    maxy = min(maxr+eps,max([max([q1[1] for q1 in q]) for q in paths]))\n",
    "    solpaths = sum([line(q) for q in paths])\n",
    "    fixedpoints = sum([line([[0,(q[0][0]+q[0][1])/2],[t_end,(q[0][0]+q[0][1])/2]], rgbcolor = (1,0,0)) for q in rr])\n",
    "    var('t')\n",
    "    html(\"Autonomous differential equation $x' = p(x)$\")\n",
    "    show(solpaths+fixedpoints, ymin = miny, ymax = maxy, xmin = 0, xmax = t_end, figsize = [6,4])"
   ]
  },
  {
   "cell_type": "markdown",
   "metadata": {},
   "source": [
    "Heat equation using Fourier series"
   ]
  },
  {
   "cell_type": "code",
   "execution_count": 13,
   "metadata": {},
   "outputs": [
    {
     "data": {
      "application/vnd.jupyter.widget-view+json": {
       "model_id": "8938e07d2d3c4dfb8eeb678e30efd5b5",
       "version_major": 2,
       "version_minor": 0
      },
      "text/plain": [
       "Interactive function <function _ at 0x28e61bea0> with 1 widget\n",
       "  tiempo: SelectionSlider(description='tiempo',…"
      ]
     },
     "metadata": {},
     "output_type": "display_data"
    }
   ],
   "source": [
    "var('x')\n",
    "x0  = 0\n",
    "k=1\n",
    "f   = x*exp(-x^2)\n",
    "p   = plot(f,0,2*pi, thickness=2)\n",
    "c   = 1/pi\n",
    "orden=10\n",
    "alpha=[(n,c*numerical_integral(f*sin(x*n/2),0,2*pi)[0] ) for n in range(1,orden)]\n",
    "\n",
    "@interact\n",
    "def _(tiempo = (0.1*j for j in (0..10)) ):\n",
    "    ft = sum( a*sin(x*n/2)*exp(-k*(n/2)^2*tiempo) for n,a in alpha)\n",
    "    pt = plot(ft, 0, 2*pi, color='green', thickness=2)\n",
    "    show( p + pt, ymin = -.2)"
   ]
  },
  {
   "cell_type": "markdown",
   "metadata": {},
   "source": [
    "Heat equation, finite differences"
   ]
  },
  {
   "cell_type": "code",
   "execution_count": 15,
   "metadata": {},
   "outputs": [],
   "source": [
    "%%cython\n",
    "#cython code implementing a very simple finite diference scheme\n",
    "import numpy as np\n",
    "def calor_cython(u0,float dx, float k,float t_f,int tsteps):\n",
    "    cdef int m\n",
    "    cdef float dt\n",
    "    cdef float s\n",
    "    u=np.array(u0)\n",
    "    dt=t_f/tsteps\n",
    "    s=k*dt/(dx**2)        #we cannot use ^ for exponentiation in cython\n",
    "    for m in range(tsteps):\n",
    "        u[1:-1]=(1-2*s)*u[1:-1]+s*u[0:-2]+s*u[2:]\n",
    "    return u"
   ]
  },
  {
   "cell_type": "code",
   "execution_count": 16,
   "metadata": {},
   "outputs": [
    {
     "data": {
      "application/vnd.jupyter.widget-view+json": {
       "model_id": "58c9942b6c53413d864e7b2c26f4ed6d",
       "version_major": 2,
       "version_minor": 0
      },
      "text/plain": [
       "Interactive function <function _ at 0x28e4c0950> with 6 widgets\n",
       "  f: EvalText(value='x*e^(-x^2)', description=…"
      ]
     },
     "metadata": {},
     "output_type": "display_data"
    }
   ],
   "source": [
    "#interact box wrapping the code above\n",
    "var('x')\n",
    "\n",
    "@interact\n",
    "def _(f=input_box(default=x*exp(-x^2),label='f(x)'), longitud=input_box(default=2*pi),\n",
    "      tiempo=input_box(default=0.1), M=input_box(default=100),\n",
    "      k=input_box(default=1), tsteps=input_box(default=2000) ):\n",
    "    efe=f._fast_float_(x)\n",
    "    dx=float(longitud/M)\n",
    "    xs=[n*dx for n in range(M+1)]\n",
    "    u0=[efe(a) for a in xs]\n",
    "\n",
    "    s=k*(tiempo/tsteps) /dx^2\n",
    "    if s>0.5:\n",
    "        print('s=%f > 1/2!!!  The method is not stable' % s)\n",
    "\n",
    "    ut=calor_cython(u0,dx,k,tiempo,tsteps)\n",
    "    show( line2d(list(zip(xs, u0))) + line2d(list(zip(xs, ut)), rgbcolor='green') )"
   ]
  },
  {
   "cell_type": "markdown",
   "metadata": {},
   "source": [
    "<h1>Statistics and Probability</h1>"
   ]
  },
  {
   "cell_type": "markdown",
   "metadata": {},
   "source": [
    "Rand. walk"
   ]
  },
  {
   "cell_type": "code",
   "execution_count": 18,
   "metadata": {},
   "outputs": [
    {
     "data": {
      "application/vnd.jupyter.widget-view+json": {
       "model_id": "5b54e8384d7f47bf8ba9014a1268dc64",
       "version_major": 2,
       "version_minor": 0
      },
      "text/plain": [
       "Interactive function <function foo at 0x28e4c06a8> with 3 widgets\n",
       "  pts: Checkbox(value=True, description='Sho…"
      ]
     },
     "metadata": {},
     "output_type": "display_data"
    }
   ],
   "source": [
    "html('<h1>A Random Walk</h1>')\n",
    "vv = []\n",
    "nn = 0\n",
    "@interact\n",
    "def foo(pts=checkbox(True, \"Show points\"), \n",
    "        refresh=checkbox(False, \"New random walk every time\"),\n",
    "        steps=slider([10..500],default=50)):\n",
    "    # We cache the walk in the global variable vv, so that\n",
    "    # checking or unchecking the points checkbox does not change\n",
    "    # the random walk.\n",
    "    html(\"<h2>%s steps</h2>\"%steps)\n",
    "    global vv\n",
    "    if refresh or not vv:\n",
    "        s = 0\n",
    "        v = [(0, 0)]\n",
    "        for i in range(steps): \n",
    "             s += random() - 0.5\n",
    "             v.append((i, s)) \n",
    "        vv = v\n",
    "    elif len(vv) != steps:\n",
    "        # Add or subtract some points\n",
    "        s = vv[-1][1]\n",
    "        j = len(vv)\n",
    "        for i in range(steps - len(vv)):\n",
    "            s += random() - 0.5\n",
    "            vv.append((i + j, s))\n",
    "        v = vv[:steps]\n",
    "    else:\n",
    "        v = vv\n",
    "    L = line(v, rgbcolor='#4a8de2')\n",
    "    if pts:\n",
    "        L += points(v, pointsize=10, rgbcolor='red')\n",
    "    show(L, xmin=0, figsize=[8, 3])"
   ]
  },
  {
   "cell_type": "markdown",
   "metadata": {},
   "source": [
    "Now in 3D"
   ]
  },
  {
   "cell_type": "code",
   "execution_count": 21,
   "metadata": {},
   "outputs": [
    {
     "data": {
      "application/vnd.jupyter.widget-view+json": {
       "model_id": "fb4da5e1d75443899dd682311461d25b",
       "version_major": 2,
       "version_minor": 0
      },
      "text/plain": [
       "Interactive function <function rwalk3d at 0x28e92dc80> with 2 widgets\n",
       "  n: SelectionSlider(description='n', op…"
      ]
     },
     "metadata": {},
     "output_type": "display_data"
    }
   ],
   "source": [
    "@interact\n",
    "def rwalk3d(n=slider([50..1000]), frame=True):\n",
    "    pnt = [0, 0, 0]\n",
    "    v = [copy(pnt)]\n",
    "    for i in range(n):\n",
    "        pnt[0] += random() - 0.5\n",
    "        pnt[1] += random() - 0.5\n",
    "        pnt[2] += random() - 0.5\n",
    "        v.append(copy(pnt))\n",
    "    show(line3d(v, color='black'), aspect_ratio=[1, 1, 1], frame=frame)"
   ]
  },
  {
   "cell_type": "markdown",
   "metadata": {},
   "source": [
    "Hidden Markov"
   ]
  },
  {
   "cell_type": "code",
   "execution_count": 23,
   "metadata": {},
   "outputs": [
    {
     "data": {
      "application/vnd.jupyter.widget-view+json": {
       "model_id": "c74ad52d8e3d48bf9939d81279a6f33e",
       "version_major": 2,
       "version_minor": 0
      },
      "text/plain": [
       "Manual interactive function <function dishonest_casino at 0x28e92d7b8> with 0 widgets"
      ]
     },
     "metadata": {},
     "output_type": "display_data"
    }
   ],
   "source": [
    "m = hmm.DiscreteHiddenMarkovModel([[0.8,0.2],[0.1,0.9]], [[1/10,1/10,1/10,1/10,1/10,1/2],[1/6,1/6,1/6,1/6,1/6,1/6]], [.2,.8],emission_symbols=[1,2,3,4,5,6])\n",
    "@interact\n",
    "def dishonest_casino(auto_update=False):\n",
    "    test = list(m.generate_sequence(80))\n",
    "    vit_test = list(m.viterbi(test[0])[0])\n",
    "    pretty_print(html('<h3>The Occasionally Dishonest Casino</h3>'))\n",
    "    pretty_print(html('Emissions:'+str(test[0]).replace(',','').replace(' ','')[1:-1]))\n",
    "    vit_str = str(vit_test).replace(',','').replace(' ','')\n",
    "    vit_str = vit_str.replace('1','F').replace('0','<font color=\"#FF0000\">L</font>')[1:-1]\n",
    "    pretty_print(html('Viterbi:  '+vit_str))\n",
    "    actual_str = str(list(test[1])).replace(',','').replace(' ','')\n",
    "    actual_str = actual_str.replace('1','F').replace('0','<font color=\"#FF0000\">L</font>')[1:-1]\n",
    "    pretty_print(html('Actual:   '+ actual_str))"
   ]
  },
  {
   "cell_type": "markdown",
   "metadata": {},
   "source": [
    "<h1>Web</h1>"
   ]
  },
  {
   "cell_type": "code",
   "execution_count": 24,
   "metadata": {},
   "outputs": [
    {
     "data": {
      "application/vnd.jupyter.widget-view+json": {
       "model_id": "6d3eaa74a3af4cda824a232f6723ad05",
       "version_major": 2,
       "version_minor": 0
      },
      "text/plain": [
       "Interactive function <function mauna_loa_co2 at 0x28fdd0ea0> with 4 widgets\n",
       "  start_date: TransformIntSlider(v…"
      ]
     },
     "metadata": {},
     "output_type": "display_data"
    }
   ],
   "source": [
    "from scipy.optimize import leastsq\n",
    "import urllib.request as U\n",
    "import scipy.stats as Stat\n",
    "import time\n",
    "current_year = time.localtime().tm_year\n",
    "co2bytedata = U.urlopen('ftp://ftp.cmdl.noaa.gov/ccg/co2/trends/co2_mm_mlo.txt').readlines()\n",
    "co2data = [d.decode() for d in co2bytedata]\n",
    "datalines = []\n",
    "for a_line in co2data:\n",
    "    if a_line.find('Creation:') != -1:\n",
    "        cdate = a_line\n",
    "    if a_line[0] != '#':\n",
    "        temp = a_line.replace('\\n','').split(' ')\n",
    "        temp = [float(q) for q in temp if q != '']\n",
    "        datalines.append(temp)\n",
    "npi = RDF(pi)\n",
    "@interact(layout=[['start_date'],['end_date'],['show_linear_fit','show_nonlinear_fit']])\n",
    "def mauna_loa_co2(start_date = slider(1958,current_year,1,1958), end_date = slider(1958, current_year,1,current_year-1), show_linear_fit = checkbox(default=True), show_nonlinear_fit = checkbox(default=False)):\n",
    "    htmls1 = '<h3>CO2 monthly averages at Mauna Loa (interpolated), from NOAA/ESRL data</h3>'\n",
    "    htmls2 = '<h4>'+cdate+'</h4>'\n",
    "    pretty_print(html(htmls1+htmls2))\n",
    "    sel_data = [[q[2],q[4]] for q in datalines if start_date <= q[2] <= end_date]\n",
    "    outplot = list_plot(sel_data, plotjoined=True, rgbcolor=(1,0,0))\n",
    "    if show_nonlinear_fit:\n",
    "        def powerlaw(t,a):\n",
    "            return sel_data[0][1] + a[0]*(t-sel_data[0][0])^(a[1])\n",
    "        def res_fun(a):\n",
    "            return [q[1]-powerlaw(q[0],a) for q in sel_data]\n",
    "        def fitcos(t,a):\n",
    "            return a[0]*cos(t*2*npi+a[1])+a[2]*cos(t*4*npi+a[3])\n",
    "        def res_fun2(a):\n",
    "            return [q[1]-fitcos(q[0],a) for q in resids]\n",
    "        a1 = leastsq(res_fun,[1/2.4,1.3])[0]\n",
    "        resids = [[q[0],q[1] - powerlaw(q[0],a1)] for q in sel_data]\n",
    "        a2 = leastsq(res_fun2, [3,0,1,0])[0]\n",
    "        r2_plot = list_plot([[q[0],powerlaw(q[0],a1)+fitcos(q[0],a2)] for q in resids], rgbcolor='green',plotjoined=True)\n",
    "        outplot = outplot + r2_plot\n",
    "        var('t')\n",
    "        formula1 =  '%.2f+%.2f(t - %d)^%.2f'%(sel_data[0][1],a1[0],sel_data[0][0],a1[1])\n",
    "        formula2 = '%.2fcos(2 pi t + %.2f)+%.2f cos(4 pi t + %.2f)'%(a2[0],a2[1],a2[2],a2[3])\n",
    "        pretty_print(html('Nonlinear fit: <br>%s<br>'%(formula1+'+'+formula2)))\n",
    "    if show_linear_fit:\n",
    "        slope, intercept, r, ttprob, stderr = Stat.linregress(sel_data)\n",
    "        outplot = outplot + plot(slope*x+intercept,start_date,end_date)\n",
    "        pretty_print(html('Linear regression slope: %.2f ppm/year; correlation coefficient: %.2f'%(slope,r)))\n",
    "    var('x,y')\n",
    "    c_max = max([q[1] for q in sel_data])\n",
    "    c_min = min([q[1] for q in sel_data])\n",
    "    show(outplot, xmin = start_date, ymin = c_min-2, axes = True, xmax = end_date, ymax = c_max+3, frame = False)"
   ]
  },
  {
   "cell_type": "markdown",
   "metadata": {},
   "source": [
    "Automorphism Graph Groups"
   ]
  },
  {
   "cell_type": "code",
   "execution_count": 37,
   "metadata": {},
   "outputs": [
    {
     "data": {
      "application/vnd.jupyter.widget-view+json": {
       "model_id": "ef3b5dc52d784682b797778609f4ca3d",
       "version_major": 2,
       "version_minor": 0
      },
      "text/plain": [
       "Interactive function <function _ at 0x28d317c80> with 3 widgets\n",
       "  graph: Dropdown(description='graph', options…"
      ]
     },
     "metadata": {},
     "output_type": "display_data"
    }
   ],
   "source": [
    "@interact\n",
    "def _(graph=['CycleGraph', 'CubeGraph', 'RandomGNP'],\n",
    "      n=selector([1..10],nrows=1), p=selector([10,20,..,100],nrows=1)):\n",
    "    print(graph)\n",
    "    if graph == 'CycleGraph':\n",
    "       print(\"n = %s (number of vertices)\" % n)\n",
    "       G = graphs.CycleGraph(n)\n",
    "    elif graph == 'CubeGraph':\n",
    "       if n > 8:\n",
    "           print(\"n reduced to 8\")\n",
    "           n = 8\n",
    "       print(\"n = %s (dimension)\" % n)\n",
    "       G = graphs.CubeGraph(n)\n",
    "    elif graph == 'RandomGNP':\n",
    "       print(\"n = %s (number of vertices)\" % n)\n",
    "       print(\"p = %s%% (edge probability)\" % p)\n",
    "       G = graphs.RandomGNP(n, p / 100.0)\n",
    "    print(G.automorphism_group())\n",
    "    show(plot(G))"
   ]
  },
  {
   "cell_type": "markdown",
   "metadata": {},
   "source": [
    "Charpoly & Hecke Operator"
   ]
  },
  {
   "cell_type": "code",
   "execution_count": 38,
   "metadata": {},
   "outputs": [
    {
     "data": {
      "application/vnd.jupyter.widget-view+json": {
       "model_id": "de074fa452a44772bc1960763d1e06e7",
       "version_major": 2,
       "version_minor": 0
      },
      "text/plain": [
       "Interactive function <function f at 0x28e12fc80> with 3 widgets\n",
       "  N: Dropdown(description='N', options=(11, 13…"
      ]
     },
     "metadata": {},
     "output_type": "display_data"
    }
   ],
   "source": [
    "@interact\n",
    "def f(N = prime_range(11,400),\n",
    "      p = selector(prime_range(2,12),nrows=1),\n",
    "      three_d = (\"Three Dimensional\", False)):\n",
    "    S = SupersingularModule(N)\n",
    "    T = S.hecke_matrix(p)\n",
    "    G = DiGraph(T, multiedges=not three_d)\n",
    "    if three_d:\n",
    "        G.remove_loops()\n",
    "    html(\"<h1>Charpoly and Hecke Graph: Level %s, T_%s</h1>\"%(N,p))\n",
    "    show(T.charpoly().factor())\n",
    "    if three_d:\n",
    "        show(G.plot3d(), aspect_ratio=[1,1,1])\n",
    "    else:\n",
    "        show(G.plot(),figsize=7)"
   ]
  },
  {
   "cell_type": "markdown",
   "metadata": {},
   "source": [
    "Generalized Bernoulli #s"
   ]
  },
  {
   "cell_type": "code",
   "execution_count": 40,
   "metadata": {},
   "outputs": [
    {
     "data": {
      "application/vnd.jupyter.widget-view+json": {
       "model_id": "cd191068b4424344a4eaaa3ff571fdfe",
       "version_major": 2,
       "version_minor": 0
      },
      "text/plain": [
       "Interactive function <function _ at 0x28fc82598> with 2 widgets\n",
       "  m: ToggleButtons(description='m', options=(1…"
      ]
     },
     "metadata": {},
     "output_type": "display_data"
    }
   ],
   "source": [
    "@interact\n",
    "def _(m=selector([1..15],nrows=2), n=(7,[3..10])):\n",
    "    G = DirichletGroup(m)\n",
    "    s = r\"<h3>First n=%s Bernoulli numbers attached to characters with modulus m=%s</h3>\"%(n,m)\n",
    "    s += r'<table border=1>'\n",
    "    s += r'<tr bgcolor=\"#edcc9c\"><td align=center>$\\chi$</td><td>Conductor</td>' + \\\n",
    "           ''.join(r'<td>$B_{%s,\\chi}$</td>'%k for k in [1..n]) + '</tr>'\n",
    "    for eps in G.list():\n",
    "        v = ''.join(['<td align=center bgcolor=\"#efe5cd\">$%s$</td>'%latex(eps.bernoulli(k)) for k in [1..n]])\n",
    "        s += '<tr><td bgcolor=\"#edcc9c\">%s</td><td bgcolor=\"#efe5cd\" align=center>%s</td>%s</tr>\\n'%(\n",
    "             eps, eps.conductor(), v)\n",
    "    s += '</table>'\n",
    "    pretty_print(html(s))"
   ]
  },
  {
   "cell_type": "markdown",
   "metadata": {},
   "source": [
    "Factor Trees"
   ]
  },
  {
   "cell_type": "code",
   "execution_count": 42,
   "metadata": {},
   "outputs": [
    {
     "data": {
      "application/vnd.jupyter.widget-view+json": {
       "model_id": "f99f5dd495b94a758035748157101233",
       "version_major": 2,
       "version_minor": 0
      },
      "text/plain": [
       "Interactive function <function factor_tree at 0x28d6331e0> with 3 widgets\n",
       "  n: IntSlider(value=100, descriptio…"
      ]
     },
     "metadata": {},
     "output_type": "display_data"
    }
   ],
   "source": [
    "import random\n",
    "def ftree(rows, v, i, F):\n",
    "    if len(v) > 0: # add a row to g at the ith level.\n",
    "        rows.append(v)\n",
    "    w = []\n",
    "    for i in range(len(v)):\n",
    "        k, _, _ = v[i]\n",
    "        if k is None or is_prime(k):\n",
    "            w.append((None,None,None))\n",
    "        else:\n",
    "            d = random.choice(divisors(k)[1:-1])\n",
    "            w.append((d,k,i))\n",
    "            e = k//d\n",
    "            if e == 1:\n",
    "                w.append((None,None))\n",
    "            else:\n",
    "                w.append((e,k,i))\n",
    "    if len(w) > len(v):\n",
    "        ftree(rows, w, i+1, F)\n",
    "def draw_ftree(rows,font):\n",
    "    g = Graphics()\n",
    "    for i in range(len(rows)):\n",
    "        cur = rows[i]\n",
    "        for j in range(len(cur)):\n",
    "            e, f, k = cur[j]\n",
    "            if not e is None:\n",
    "                if is_prime(e):\n",
    "                     c = (1,0,0)\n",
    "                else:\n",
    "                     c = (0,0,.4)\n",
    "                g += text(str(e), (j*2-len(cur),-i), fontsize=font, rgbcolor=c)\n",
    "                if not k is None and not f is None:\n",
    "                    g += line([(j*2-len(cur),-i), ((k*2)-len(rows[i-1]),-i+1)],\n",
    "                    alpha=0.5)\n",
    "    return g\n",
    "\n",
    "@interact\n",
    "def factor_tree(n=100, font=(10, (8..20)), redraw=['Redraw']):\n",
    "    n = Integer(n)\n",
    "    rows = []\n",
    "    v = [(n,None,0)]\n",
    "    ftree(rows, v, 0, factor(n))\n",
    "    show(draw_ftree(rows, font), axes=False)"
   ]
  },
  {
   "cell_type": "markdown",
   "metadata": {},
   "source": [
    "<h1>Taylor Series</h1>"
   ]
  },
  {
   "cell_type": "code",
   "execution_count": 44,
   "metadata": {},
   "outputs": [
    {
     "data": {
      "application/vnd.jupyter.widget-view+json": {
       "model_id": "d093477619464f659c3d20e884f396e7",
       "version_major": 2,
       "version_minor": 0
      },
      "text/plain": [
       "Interactive function <function _ at 0x28d317840> with 1 widget\n",
       "  order: SelectionSlider(description='order', o…"
      ]
     },
     "metadata": {},
     "output_type": "display_data"
    }
   ],
   "source": [
    "x   = SR.var('x')\n",
    "x0  = 0\n",
    "f   = sin(x) * e^(-x)\n",
    "p   = plot(f, -1, 5, thickness=2)\n",
    "dot = point((x0, f(x=x0)), pointsize=80, rgbcolor=(1, 0, 0))\n",
    "\n",
    "@interact\n",
    "def _(order=slider([1 .. 12])):\n",
    "  ft = f.taylor(x, x0, order)\n",
    "  pt = plot(ft, -1, 5, color='green', thickness=2)\n",
    "  pretty_print(html(r'$f(x)\\;=\\;%s$' % latex(f)))\n",
    "  pretty_print(html(r'$\\hat{f}(x;%s)\\;=\\;%s+\\mathcal{O}(x^{%s})$' % (x0, latex(ft), order+1)))\n",
    "  show(dot + p + pt, ymin=-.5, ymax=1)"
   ]
  },
  {
   "cell_type": "markdown",
   "metadata": {},
   "source": [
    "<h1>Linear Algebra: Lin. Transformations</h1>"
   ]
  },
  {
   "cell_type": "code",
   "execution_count": 49,
   "metadata": {},
   "outputs": [
    {
     "data": {
      "application/vnd.jupyter.widget-view+json": {
       "model_id": "dafee0897e8a4613862cf1323d259454",
       "version_major": 2,
       "version_minor": 0
      },
      "text/plain": [
       "Interactive function <function linear_transformation at 0x28e4a3d90> with 3 widgets\n",
       "  A: Grid(value=[[1, -1], …"
      ]
     },
     "metadata": {},
     "output_type": "display_data"
    }
   ],
   "source": [
    "@interact\n",
    "def linear_transformation(A=matrix([[1,-1],[-1,1/2]]),theta=slider(0, 2*pi, .1), r=slider(0.1, 2, .1, default=1)):\n",
    "    v=vector([r*cos(theta), r*sin(theta)])\n",
    "    w = A*v\n",
    "    circles = sum([circle((0,0), radius=i, color='black') for i in [1..2]])\n",
    "    pretty_print(html(\"$%s %s=%s$\"%tuple(map(latex, [A, v.column().n(4), w.column().n(4)]))))\n",
    "    show(v.plot(color='red')+w.plot(color='blue')+circles,aspect_ratio=1)"
   ]
  },
  {
   "cell_type": "markdown",
   "metadata": {},
   "source": [
    "Fourier Transform, discrete"
   ]
  },
  {
   "cell_type": "code",
   "execution_count": 51,
   "metadata": {},
   "outputs": [
    {
     "data": {
      "application/vnd.jupyter.widget-view+json": {
       "model_id": "8522151e69194940bf98dd77ef9323ff",
       "version_major": 2,
       "version_minor": 0
      },
      "text/plain": [
       "Interactive function <function discrete_fourier at 0x290710730> with 2 widgets\n",
       "  f: EvalText(value='sin(3*x) +…"
      ]
     },
     "metadata": {},
     "output_type": "display_data"
    }
   ],
   "source": [
    "import scipy.fftpack as Fourier\n",
    "@interact\n",
    "def discrete_fourier(f = input_box(default=sum([sin(k*x) for k in range(1,5,2)])), scale = slider(.1,20,.1,5)):\n",
    "    pbegin = -float(pi)*scale\n",
    "    pend = float(pi)*scale\n",
    "    pretty_print(html(\"<h3>Function plot and its discrete Fourier transform</h3>\"))\n",
    "    show(plot(f, (x,pbegin, pend), plot_points = 512), figsize = [4,3])\n",
    "    f_vals = [f(x=ind) for ind in srange(pbegin, pend,(pend-pbegin)/512.0)]\n",
    "    my_fft = Fourier.fft(f_vals)\n",
    "    show(list_plot([abs(i) for i in my_fft], plotjoined=True), figsize = [4,3])"
   ]
  },
  {
   "cell_type": "raw",
   "metadata": {},
   "source": [
    "Matrix Inversion"
   ]
  },
  {
   "cell_type": "code",
   "execution_count": 64,
   "metadata": {},
   "outputs": [
    {
     "data": {
      "application/vnd.jupyter.widget-view+json": {
       "model_id": "c4249ab3a0b84e2f806e759fac65337f",
       "version_major": 2,
       "version_minor": 0
      },
      "text/plain": [
       "Manual interactive function <function _ at 0x290710ea0> with 3 widgets\n",
       "  M: Grid(value=[[1, 0, 2], [0, 1, 0], …"
      ]
     },
     "metadata": {},
     "output_type": "display_data"
    }
   ],
   "source": [
    "#Choose the size D of the square matrix:\n",
    "D = 3\n",
    "\n",
    "example = [[1 if k==j else 0 for k in range(D)] for j in range(D)]\n",
    "example[0][-1] = 2\n",
    "example[-1][0] = 3\n",
    "\n",
    "@interact\n",
    "def _(M=input_grid(D,D, default = example,\n",
    "                   label='Matrix to invert', to_value=matrix),\n",
    "      tt = text_control('Enter the bits of precision used'\n",
    "                        ' (only if you entered floating point numbers)'),  \n",
    "      precision = slider(5,100,5,20),\n",
    "      auto_update=False):\n",
    "    if det(M)==0:\n",
    "        print('Failure: Matrix is not invertible')\n",
    "        return\n",
    "    if M.base_ring() == RR:\n",
    "        M = M.apply_map(RealField(precision))\n",
    "    N=M\n",
    "    M=M.augment(identity_matrix(D))\n",
    "    print('We construct the augmented matrix')\n",
    "    show(M)\n",
    "    for m in range(0,D-1):\n",
    "        if M[m,m] == 0:\n",
    "            lista = [(abs(M[j,m]),j) for j in range(m+1,D)]\n",
    "            maxi, c = max(lista)\n",
    "            M[c,:],M[m,:]=M[m,:],M[c,:]\n",
    "            print('We permute rows %d and %d')%(m+1,c+1)\n",
    "            show(M)\n",
    "        for n in range(m+1,D):\n",
    "            a=M[m,m]\n",
    "            if M[n,m]!=0:\n",
    "                print(\"We add %s times row %d to row %o\"%(-M[n,m]/a, m+1, n+1))\n",
    "                M=M.with_added_multiple_of_row(n,m,-M[n,m]/a)\n",
    "                show(M)\n",
    "    for m in range(D-1,-1,-1):\n",
    "        for n in range(m-1,-1,-1):\n",
    "            a=M[m,m]\n",
    "            if M[n,m]!=0:\n",
    "                print(\"We add %s times row %d to row %o\"%(-M[n,m]/a, m+1, n+1))\n",
    "                M=M.with_added_multiple_of_row(n,m,-M[n,m]/a)\n",
    "                show(M)      \n",
    "    for m in range(0,D):\n",
    "        if M[m,m]!=1:\n",
    "            print('We divide row %d by %s'%(m+1,M[m,m]))\n",
    "            M=M.with_row_set_to_multiple_of_row(m,m,1/M[m,m])\n",
    "            show(M)   \n",
    "    M=M.submatrix(0,D,D)\n",
    "    print('We keep the right submatrix, which contains the inverse')        \n",
    "    html('$$M^{-1}=%s$$'%latex(M))\n",
    "    print('We check it actually is the inverse')\n",
    "    html('$$M^{-1}*M=%s*%s=%s$$'%(latex(M),latex(N),latex(M*N)))"
   ]
  },
  {
   "cell_type": "markdown",
   "metadata": {},
   "source": [
    "<h1>Just a Venn Diagram, 2 versions</h1>"
   ]
  },
  {
   "cell_type": "code",
   "execution_count": 67,
   "metadata": {},
   "outputs": [
    {
     "data": {
      "application/vnd.jupyter.widget-view+json": {
       "model_id": "9086865d8b834996b723106fbca91f08",
       "version_major": 2,
       "version_minor": 0
      },
      "text/plain": [
       "Interactive function <function _ at 0x28e8728c8> with 3 widgets\n",
       "  X: Text(value='1,2,3,a', description='X')\n",
       "  …"
      ]
     },
     "metadata": {},
     "output_type": "display_data"
    }
   ],
   "source": [
    "def f(s, braces=True): \n",
    "    t = ', '.join(sorted(list(s)))\n",
    "    if braces: return '{' + t + '}'\n",
    "    return t\n",
    "def g(s): return set(str(s).replace(',',' ').split())\n",
    "\n",
    "@interact\n",
    "def _(X='1,2,3,a', Y='2,a,3,4,apple', Z='a,b,10,apple'):\n",
    "    S = [g(X), g(Y), g(Z)]\n",
    "    X,Y,Z = S\n",
    "    XY = X & Y\n",
    "    XZ = X & Z\n",
    "    YZ = Y & Z\n",
    "    XYZ = XY & Z\n",
    "    pretty_print(html(\"<center><p>$X \\\\cap Y$ = {}</p><p> $X \\\\cap Z$ = {}</p><p> $Y \\\\cap Z$ = {}</p><p> $X \\\\cap Y \\\\cap Z$ = {}<center>\".format(f(XY),f(XZ),f(YZ),f(XYZ))))\n",
    "    centers = [(cos(n*2*pi/3), sin(n*2*pi/3)) for n in [0,1,2]]\n",
    "    scale = 1.7\n",
    "    clr = ['yellow', 'blue', 'green']\n",
    "    G = Graphics()\n",
    "    for i in range(len(S)):\n",
    "        G += circle(centers[i], scale, rgbcolor=clr[i], \n",
    "             fill=True, alpha=0.3)\n",
    "    for i in range(len(S)):\n",
    "        G += circle(centers[i], scale, rgbcolor='black')\n",
    "\n",
    "    # Plot what is in one but neither other\n",
    "    for i in range(len(S)):\n",
    "        Z = set(S[i])\n",
    "        for j in range(1,len(S)):\n",
    "            Z = Z.difference(S[(i+j)%3])\n",
    "        G += text(f(Z,braces=False), (1.5*centers[i][0],1.7*centers[i][1]), rgbcolor='black')\n",
    "\n",
    "\n",
    "    # Plot pairs of intersections\n",
    "    for i in range(len(S)):\n",
    "        Z = (set(S[i]) & S[(i+1)%3]) - set(XYZ)\n",
    "        C = (1.3*cos(i*2*pi/3 + pi/3), 1.3*sin(i*2*pi/3 + pi/3))\n",
    "        G += text(f(Z,braces=False), C, rgbcolor='black')\n",
    "\n",
    "    # Plot intersection of all three\n",
    "    G += text(f(XYZ,braces=False), (0,0), rgbcolor='black')\n",
    "\n",
    "    # Show it\n",
    "    G.show(aspect_ratio=1, axes=False)"
   ]
  },
  {
   "cell_type": "code",
   "execution_count": 68,
   "metadata": {},
   "outputs": [
    {
     "data": {
      "application/vnd.jupyter.widget-view+json": {
       "model_id": "50cfe2906b0a43b59db160893ab7c516",
       "version_major": 2,
       "version_minor": 0
      },
      "text/plain": [
       "Interactive function <function _ at 0x28d5299d8> with 8 widgets\n",
       "  T: SelectionSlider(description='People surve…"
      ]
     },
     "metadata": {},
     "output_type": "display_data"
    }
   ],
   "source": [
    "@interact\n",
    "def _(T=slider([0..100],default=100,label='People surveyed'),X=slider([0..100],default=28,label='Run'), Y=slider([0..100],default=33,label='Bike'), Z=slider([0..100],default=59,label='Swim'),XY=slider([0..100],default=16,label='Run and Bike'),XZ=slider([0..100],default=13,label='Run and Swim'),YZ=slider([0..100],default=12,label='Bike and Swim'),XYZ=slider([0..100],default=7,label='Run, Bike, and Swim')):\n",
    "   \n",
    "    centers = [(cos(n*2*pi/3), sin(n*2*pi/3)) for n in [0,1,2]]\n",
    "    scale = 1.7\n",
    "    clr = ['yellow', 'blue', 'green']\n",
    "    G = Graphics()\n",
    "    for i in range(3):\n",
    "        G += circle(centers[i], scale, rgbcolor=clr[i],\n",
    "             fill=True, alpha=0.3)\n",
    "    for i in range(3):\n",
    "        G += circle(centers[i], scale, rgbcolor='black')\n",
    "   \n",
    "    # Label sets\n",
    "    G += text('Run',(3,0),rgbcolor='black')\n",
    "    G += text('Bike',(-1,3),rgbcolor='black')\n",
    "    G += text('Swim',(-1,-3),rgbcolor='black')\n",
    "   \n",
    "    # Plot pairs of intersections\n",
    "    ZX=XZ-XYZ\n",
    "    G += text(ZX, (1.3*cos(2*2*pi/3 + pi/3), 1.3*sin(2*2*pi/3 + pi/3)), rgbcolor='black')\n",
    "    YX=XY-XYZ\n",
    "    G += text(YX, (1.3*cos(0*2*pi/3 + pi/3), 1.3*sin(0*2*pi/3 + pi/3)), rgbcolor='black')\n",
    "    ZY=YZ-XYZ\n",
    "    G += text(ZY, (1.3*cos(1*2*pi/3 + pi/3), 1.3*sin(1*2*pi/3 + pi/3)), rgbcolor='black')\n",
    "  \n",
    "    # Plot what is in one but neither other\n",
    "    XX=X-ZX-YX-XYZ\n",
    "    G += text(XX, (1.5*centers[0][0],1.7*centers[0][1]), rgbcolor='black')\n",
    "    YY=Y-ZY-YX-XYZ\n",
    "    G += text(YY, (1.5*centers[1][0],1.7*centers[1][1]), rgbcolor='black')\n",
    "    ZZ=Z-ZY-ZX-XYZ\n",
    "    G += text(ZZ, (1.5*centers[2][0],1.7*centers[2][1]), rgbcolor='black')\n",
    " \n",
    "    # Plot intersection of all three\n",
    "    G += text(XYZ, (0,0), rgbcolor='black')\n",
    "   \n",
    "    # Indicate number not in X, in Y, or in Z\n",
    "    C = T-XX-YY-ZZ-ZX-ZY-YX-XYZ\n",
    "    G += text(C,(3,-3),rgbcolor='black')\n",
    "    \n",
    "    # Check reasonableness before displaying result\n",
    "    if XYZ>XY or XYZ>XZ or XYZ>YZ or XY>X or XY>Y or XZ>X or XZ>Z or YZ>Y or YZ>Z or C<0 or XYZ<0 or XZ<0 or YZ<0 or XY<0 or X<0 or Y<0 or Z<0 or XX<0 or YY<0 or ZZ<0:\n",
    "        print('This situation is impossible! (Why?)')\n",
    "    else:\n",
    "        G.show(aspect_ratio=1, axes=False)"
   ]
  },
  {
   "cell_type": "markdown",
   "metadata": {},
   "source": [
    "3D"
   ]
  },
  {
   "cell_type": "code",
   "execution_count": 69,
   "metadata": {},
   "outputs": [
    {
     "data": {
      "application/vnd.jupyter.widget-view+json": {
       "model_id": "25d6c809c7c34a8ba9c9ee627bb93dfd",
       "version_major": 2,
       "version_minor": 0
      },
      "text/plain": [
       "Interactive function <function _ at 0x290012e18> with 4 widgets\n",
       "  example: ToggleButtons(description='example'…"
      ]
     },
     "metadata": {},
     "output_type": "display_data"
    }
   ],
   "source": [
    "var('u,v')\n",
    "plots = ['Two Interlinked Tori', 'Star of David', 'Double Heart',\n",
    "         'Heart', 'Green bowtie', \"Boy's Surface\", \"Maeder's Owl\",\n",
    "         'Cross cap']\n",
    "plots.sort()\n",
    "\n",
    "@interact\n",
    "def _(example=selector(plots, buttons=True, nrows=2),\n",
    "      tachyon=(\"Raytrace\", False), frame = ('Frame', False),\n",
    "      opacity=(1,(0.1,1))):\n",
    "    url = ''\n",
    "    if example == 'Two Interlinked Tori':\n",
    "        f1 = (4+(3+cos(v))*sin(u), 4+(3+cos(v))*cos(u), 4+sin(v))\n",
    "        f2 = (8+(3+cos(v))*cos(u), 3+sin(v), 4+(3+cos(v))*sin(u))\n",
    "        p1 = parametric_plot3d(f1, (u,0,2*pi), (v,0,2*pi), color=\"red\", opacity=opacity)\n",
    "        p2 = parametric_plot3d(f2, (u,0,2*pi), (v,0,2*pi), color=\"blue\",opacity=opacity)\n",
    "        P = p1 + p2\n",
    "    elif example == 'Star of David':\n",
    "        f_x = cos(u)*cos(v)*(abs(cos(3*v/4))^500 + abs(sin(3*v/4))^500)^(-1/260)*(abs(cos(4*u/4))^200 + abs(sin(4*u/4))^200)^(-1/200)\n",
    "        f_y = cos(u)*sin(v)*(abs(cos(3*v/4))^500 + abs(sin(3*v/4))^500)^(-1/260)*(abs(cos(4*u/4))^200 + abs(sin(4*u/4))^200)^(-1/200)\n",
    "        f_z = sin(u)*(abs(cos(4*u/4))^200 + abs(sin(4*u/4))^200)^(-1/200)\n",
    "        P = parametric_plot3d([f_x, f_y, f_z], (u, -pi, pi), (v, 0, 2*pi),opacity=opacity)\n",
    "    elif example == 'Double Heart':\n",
    "        f_x = ( abs(v) - abs(u) - abs(tanh((1/sqrt(2))*u)/(1/sqrt(2))) + abs(tanh((1/sqrt(2))*v)/(1/sqrt(2))) )*sin(v)\n",
    "        f_y = ( abs(v) - abs(u) - abs(tanh((1/sqrt(2))*u)/(1/sqrt(2))) - abs(tanh((1/sqrt(2))*v)/(1/sqrt(2))) )*cos(v)\n",
    "        f_z = sin(u)*(abs(cos(4*u/4))^1 + abs(sin(4*u/4))^1)^(-1/1)\n",
    "        P = parametric_plot3d([f_x, f_y, f_z], (u, 0, pi), (v, -pi, pi),opacity=opacity)\n",
    "    elif example == 'Heart':\n",
    "        f_x = cos(u)*(4*sqrt(1-v^2)*sin(abs(u))^abs(u))\n",
    "        f_y = sin(u) *(4*sqrt(1-v^2)*sin(abs(u))^abs(u))\n",
    "        f_z = v\n",
    "        P = parametric_plot3d([f_x, f_y, f_z], (u, -pi, pi), (v, -1, 1), frame=False, color=\"red\",opacity=opacity)\n",
    "    elif example == 'Green bowtie':\n",
    "        f_x = sin(u) / (sqrt(2) + sin(v))\n",
    "        f_y = sin(u) / (sqrt(2) + cos(v))\n",
    "        f_z = cos(u) / (1 + sqrt(2))\n",
    "        P = parametric_plot3d([f_x, f_y, f_z], (u, -pi, pi), (v, -pi, pi), frame=False, color=\"green\",opacity=opacity)\n",
    "    elif example == \"Boy's Surface\":\n",
    "        url = \"http://en.wikipedia.org/wiki/Boy's_surface\"\n",
    "        fx = 2/3* (cos(u)* cos(2*v) + sqrt(2)* sin(u)* cos(v))* cos(u) / (sqrt(2) - sin(2*u)* sin(3*v))\n",
    "        fy = 2/3* (cos(u)* sin(2*v) - sqrt(2)* sin(u)* sin(v))* cos(u) / (sqrt(2) - sin(2*u)* sin(3*v))\n",
    "        fz = sqrt(2)* cos(u)* cos(u) / (sqrt(2) - sin(2*u)* sin(3*v))\n",
    "        P = parametric_plot3d([fx, fy, fz], (u, -2*pi, 2*pi), (v, 0, pi), plot_points = [90,90], frame=False, color=\"orange\",opacity=opacity) \n",
    "    elif example == \"Maeder's Owl\":\n",
    "        fx = v *cos(u) - 0.5* v^2 * cos(2* u)\n",
    "        fy = -v *sin(u) - 0.5* v^2 * sin(2* u)\n",
    "        fz = 4 *v^1.5 * cos(3 *u / 2) / 3\n",
    "        P = parametric_plot3d([fx, fy, fz], (u, -2*pi, 2*pi), (v, 0, 1),plot_points = [90,90], frame=False, color=\"purple\",opacity=opacity)\n",
    "    elif example =='Cross cap':\n",
    "        url = 'http://en.wikipedia.org/wiki/Cross-cap'\n",
    "        fx = (1+cos(v))*cos(u)\n",
    "        fy = (1+cos(v))*sin(u)\n",
    "        fz = -tanh((2/3)*(u-pi))*sin(v)\n",
    "        P = parametric_plot3d([fx, fy, fz], (u, 0, 2*pi), (v, 0, 2*pi), frame=False, color=\"red\",opacity=opacity)\n",
    "    else:\n",
    "        print(\"Bug selecting plot?\")\n",
    "        return\n",
    "\n",
    "\n",
    "    pretty_print(html('<h2>%s</h2>'%example))\n",
    "    if url:\n",
    "        pretty_print(html('<h3><a target=\"_new\" href=\"%s\">%s</a></h3>'%(url,url)))\n",
    "    show(P, viewer='tachyon' if tachyon else 'threejs', frame=frame)"
   ]
  },
  {
   "cell_type": "code",
   "execution_count": 70,
   "metadata": {},
   "outputs": [
    {
     "data": {
      "application/vnd.jupyter.widget-view+json": {
       "model_id": "b26f153c65b147048329f936af2b1c52",
       "version_major": 2,
       "version_minor": 0
      },
      "text/plain": [
       "Interactive function <function example at 0x290012950> with 9 widgets\n",
       "  clr: SageColorPicker(value='#ffa500', …"
      ]
     },
     "metadata": {},
     "output_type": "display_data"
    }
   ],
   "source": [
    "var('x,y')\n",
    "@interact\n",
    "def example(clr=Color('orange'), f=4*x*exp(-x^2-y^2), xrange='(-2, 2)', yrange='(-2,2)', \n",
    "    zrot=(0,pi), xrot=(0,pi), zoom=(1,(1/2,3)), square_aspect=('Square Frame', False),\n",
    "    tachyon=('Ray Tracer', True)):\n",
    "    xmin, xmax = sage_eval(xrange); ymin, ymax = sage_eval(yrange)\n",
    "    P = plot3d(f, (x, xmin, xmax), (y, ymin, ymax), color=clr)\n",
    "    html('<h1>Plot of $f(x,y) = %s$</h1>'%latex(f))\n",
    "    aspect_ratio = [1,1,1] if square_aspect else [1,1,1/2]\n",
    "    show(P.rotate((0,0,1), -zrot).rotate((1,0,0),xrot), \n",
    "         viewer='tachyon' if tachyon else 'threejs', \n",
    "         figsize=6, zoom=zoom, frame=False,\n",
    "         frame_aspect_ratio=aspect_ratio)"
   ]
  },
  {
   "cell_type": "code",
   "execution_count": 71,
   "metadata": {},
   "outputs": [
    {
     "data": {
      "application/vnd.jupyter.widget-view+json": {
       "model_id": "8bd0218f99914ce99e5e91ffff69770b",
       "version_major": 2,
       "version_minor": 0
      },
      "text/plain": [
       "Interactive function <function example at 0x28dd55840> with 3 widgets\n",
       "  theta: FloatSlider(value=3.14159265358…"
      ]
     },
     "metadata": {},
     "output_type": "display_data"
    }
   ],
   "source": [
    "C = cube(color=['red', 'green', 'blue'], aspect_ratio=[1,1,1],\n",
    "         viewer='tachyon') + sphere((1,0,0),0.2)\n",
    "@interact\n",
    "def example(theta=(0,2*pi), phi=(0,2*pi), zoom=(1,(1,4))):\n",
    "    show(C.rotate((0,0,1), theta).rotate((0,1,0),phi), zoom=zoom)"
   ]
  },
  {
   "cell_type": "markdown",
   "metadata": {},
   "source": [
    "<h1>Matplot interface</h1>"
   ]
  },
  {
   "cell_type": "code",
   "execution_count": 78,
   "metadata": {},
   "outputs": [
    {
     "data": {
      "application/vnd.jupyter.widget-view+json": {
       "model_id": "6112ff43a88440ed8925395d18c49176",
       "version_major": 2,
       "version_minor": 0
      },
      "text/plain": [
       "Interactive function <function plot_norm at 0x2906da9d8> with 2 widgets\n",
       "  loc: IntSlider(value=0, description=…"
      ]
     },
     "metadata": {},
     "output_type": "display_data"
    }
   ],
   "source": [
    "from scipy import stats\n",
    "import numpy as np\n",
    "import matplotlib.pyplot as plt\n",
    "\n",
    "@interact\n",
    "def plot_norm(loc=(0,(0,10)), scale=(1,(1,10))):\n",
    "    rv = stats.norm(loc, scale)\n",
    "    x = np.linspace(-10,10,1000)\n",
    "    plt.plot(x,rv.pdf(x))\n",
    "    plt.grid(True)\n",
    "    plt.savefig('plt.png')"
   ]
  },
  {
   "cell_type": "markdown",
   "metadata": {},
   "source": [
    "<h1>Geometry: Area inside a spatial curve</h1>"
   ]
  },
  {
   "cell_type": "code",
   "execution_count": 118,
   "metadata": {},
   "outputs": [
    {
     "data": {
      "application/vnd.jupyter.widget-view+json": {
       "model_id": "008a3b9a063a47eba7e93a65315fcce3",
       "version_major": 2,
       "version_minor": 0
      },
      "text/plain": [
       "Interactive function <function bp_interact at 0x294e45a60> with 8 widgets\n",
       "  u1: HTMLText(value='x, y, z coordi…"
      ]
     },
     "metadata": {},
     "output_type": "display_data"
    }
   ],
   "source": [
    "from collections import defaultdict\n",
    "import random\n",
    "var('t')\n",
    "a = 0; b= 2*pi\n",
    "\n",
    "def random_line3d(bound):\n",
    "    '''Random line in R^3: first choose the guiding vector of the line,\n",
    "    then choose a point in the plane p perpendicular to that vector.\n",
    "    '''\n",
    "    p = vector([(2*random.random() - 1) for i in range(3)])\n",
    "    v = p/norm(p)\n",
    "    v2, v3 = matrix(v).right_kernel().basis()\n",
    "    if det(matrix([v, v2, v3]))<0:\n",
    "        v2, v3 = v3, v2\n",
    "    v2 = v2/norm(v2)\n",
    "    v3 = v3 - (v3*v2)*v2\n",
    "    v3 = v3/norm(v3)\n",
    "    return v, (2*random.random()*bound - bound, v2), (2*random.random()*bound - bound, v3)\n",
    "\n",
    "def winding_number(x, y, x0, y0):\n",
    "    x -= x0\n",
    "    y -= y0\n",
    "    r2 = x^2 + y^2\n",
    "    xp = x.derivative(t)\n",
    "    yp = y.derivative(t)\n",
    "    integrando(t) = (x*yp -y*xp)/r2\n",
    "    i,e = numerical_integral(integrando(t), a, b)\n",
    "    return round(i/(2*pi))\n",
    "\n",
    "def linking_number(curve, line):\n",
    "    v, (a2, v2), (a3, v3) = line\n",
    "    M = matrix([v, v2, v3])\n",
    "#    curve2d = (curve*M.inverse())[1:] #This is VERY slow, for some reason!\n",
    "    curve2d = sum(c*v for c,v in zip(curve,M.inverse()))[1:]\n",
    "    x, y = curve2d\n",
    "    return winding_number(x, y, a2,a3)\n",
    "\n",
    "def color_ln(number):\n",
    "    if number:\n",
    "        return (0,1-1/(1+number),0)\n",
    "    else:\n",
    "        return (1,0,0)\n",
    "\n",
    "def banchoff_pohl(curve, L, M):\n",
    "    ln_d = defaultdict(int)\n",
    "    pp = parametric_plot3d(curve, (t,0,2*pi), thickness=2)\n",
    "    new_curve = curve\n",
    "    for k in range(L):\n",
    "        a_line = random_line3d(M)\n",
    "        ln = abs(linking_number(curve, a_line))\n",
    "        v, (l1, v1), (l2, v2) = a_line\n",
    "        new_curve = l1*v1\n",
    "        new_curve += l2*v2\n",
    "        #v = t*v\n",
    "        #new_curve += t*1\n",
    "        pp += parametric_plot3d(new_curve, (t,-2,2), color=color_ln(ln))\n",
    "        ln_d[ln] += 1\n",
    "    return ln_d, pp\n",
    "\n",
    "def print_stats(d):\n",
    "    print('Number of lines with linking number k:')\n",
    "    print(', '.join('%d:%d' % kv for kv in d.items()))\n",
    "\n",
    "@interact\n",
    "def bp_interact( u1 = text_control('x, y, z coordinates of a closed space curve in [0,2*pi]'),\n",
    "                 curvax = input_box(cos(t), label='x(t)' ),\n",
    "                 curvay = input_box(sin(t), label='y(t)' ),\n",
    "                 curvaz = input_box(0, label='y(t)' ),\n",
    "                 u2 = text_control('The curve should be contained in a ball of radius M'),\n",
    "                 M  = 1,\n",
    "                 u3 = text_control('Use L lines chosen randomly'),\n",
    "                 L  = 10):\n",
    "    ln_d, p = banchoff_pohl(vector((curvax, curvay, curvaz)), L, M)\n",
    "    p.show(aspect_ratio=1, xmin=-2, xmax=2, ymin=-2,ymax=2)\n",
    "    bp_area_aprox = (sum(k^2*v for k,v in ln_d.items())/L)*2*pi*M^2\n",
    "    print('Bahnchoff-Pohl area of the curve(aprox): %f' % bp_area_aprox)\n",
    "    print_stats(ln_d)"
   ]
  },
  {
   "cell_type": "markdown",
   "metadata": {},
   "source": [
    "<h1>Integrals</h1>"
   ]
  },
  {
   "cell_type": "code",
   "execution_count": 119,
   "metadata": {},
   "outputs": [
    {
     "data": {
      "application/vnd.jupyter.widget-view+json": {
       "model_id": "850e307f54264979b8c83a52193dfb42",
       "version_major": 2,
       "version_minor": 0
      },
      "text/plain": [
       "Interactive function <function midpoint at 0x294d93158> with 4 widgets\n",
       "  f: EvalText(value='sin(x^2) + 2', des…"
      ]
     },
     "metadata": {},
     "output_type": "display_data"
    }
   ],
   "source": [
    "var('x')\n",
    "@interact\n",
    "def midpoint(f = input_box(default = sin(x^2) + 2, type = SR),\n",
    "    interval=range_slider(0, 10, 1, default=(0, 4), label=\"Interval\"),\n",
    "    number_of_subdivisions = slider(1, 20, 1, default=4, label=\"Number of boxes\"),\n",
    "    endpoint_rule = selector(['Midpoint', 'Left', 'Right', 'Upper', 'Lower'], nrows=1, label=\"Endpoint rule\")):\n",
    "\n",
    "    a, b = map(QQ, interval)\n",
    "    t = var('t')\n",
    "    func = fast_callable(f(x=t), RDF, vars=[t])\n",
    "    dx = ZZ(b-a)/ZZ(number_of_subdivisions)\n",
    "   \n",
    "    xs = []\n",
    "    ys = []\n",
    "    for q in range(number_of_subdivisions):\n",
    "        if endpoint_rule == 'Left':\n",
    "            xs.append(q*dx + a)\n",
    "        elif endpoint_rule == 'Midpoint':\n",
    "            xs.append(q*dx + a + dx/2)\n",
    "        elif endpoint_rule == 'Right':\n",
    "            xs.append(q*dx + a + dx)\n",
    "        elif endpoint_rule == 'Upper':\n",
    "            x = find_local_maximum(func, q*dx + a, q*dx + dx + a)[1]\n",
    "            xs.append(x)\n",
    "        elif endpoint_rule == 'Lower':\n",
    "            x = find_local_minimum(func, q*dx + a, q*dx + dx + a)[1]\n",
    "            xs.append(x)\n",
    "    ys = [ func(x) for x in xs ]\n",
    "         \n",
    "    rects = Graphics()\n",
    "    for q in range(number_of_subdivisions):\n",
    "        xm = q*dx + dx/2 + a\n",
    "        x = xs[q]\n",
    "        y = ys[q]\n",
    "        rects += line([[xm-dx/2,0],[xm-dx/2,y],[xm+dx/2,y],[xm+dx/2,0]], rgbcolor = (1,0,0))\n",
    "        rects += point((x, y), rgbcolor = (1,0,0))\n",
    "    min_y = min(0, find_local_minimum(func,a,b)[0])\n",
    "    max_y = max(0, find_local_maximum(func,a,b)[0])\n",
    "\n",
    "    pretty_print(html('<h3>Numerical integral with the {} rule</h3>'.format(endpoint_rule)))\n",
    "    show(plot(func,a,b) + rects, xmin = a, xmax = b, ymin = min_y, ymax = max_y)\n",
    "    \n",
    "    def cap(x):\n",
    "        # print only a few digits of precision\n",
    "        if x < 1e-4:\n",
    "            return 0\n",
    "        return RealField(20)(x)\n",
    "    sum_html = \"%s \\\\cdot \\\\left[ %s \\\\right]\" % (dx, ' + '.join([ \"f(%s)\" % cap(i) for i in xs ]))\n",
    "    num_html = \"%s \\\\cdot \\\\left[ %s \\\\right]\" % (dx, ' + '.join([ str(cap(i)) for i in ys ]))\n",
    "    \n",
    "    numerical_answer = integral_numerical(func,a,b,max_points = 200)[0]\n",
    "    estimated_answer = dx * sum([ ys[q] for q in range(number_of_subdivisions)])\n",
    "\n",
    "    pretty_print(html(r'''\n",
    "    <div class=\"math\"> \n",
    "    \\begin{align*} \n",
    "    \\int_{a}^{b} {f(x) \\, dx} & = %s \\\\\\ \n",
    "    \\sum_{i=1}^{%s} {f(x_i) \\, \\Delta x} & = %s \\\\\\ \n",
    "    & = %s \\\\\\ \n",
    "    & = %s . \\end{align*} </div>''' \n",
    "                      % (numerical_answer, number_of_subdivisions, sum_html, num_html, estimated_answer)))"
   ]
  },
  {
   "cell_type": "markdown",
   "metadata": {},
   "source": [
    "<h1>Functions</h1>"
   ]
  },
  {
   "cell_type": "code",
   "execution_count": 120,
   "metadata": {},
   "outputs": [
    {
     "data": {
      "application/vnd.jupyter.widget-view+json": {
       "model_id": "69a62e411ccd4126985acdc4a348f663",
       "version_major": 2,
       "version_minor": 0
      },
      "text/plain": [
       "Interactive function <function _ at 0x294e45ea0> with 7 widgets\n",
       "  f: EvalText(value='sin(x)', description='f')…"
      ]
     },
     "metadata": {},
     "output_type": "display_data"
    }
   ],
   "source": [
    "x = var('x')\n",
    "@interact\n",
    "def _(f=sin(x), g=cos(x), xrange=input_box((0,1)), yrange='auto', a=1,\n",
    "      action=selector(['f', 'df/dx', 'int f', 'num f', 'den f', '1/f', 'finv',\n",
    "                       'f+a', 'f-a', 'f*a', 'f/a', 'f^a', 'f(x+a)', 'f(x*a)',\n",
    "                       'f+g', 'f-g', 'f*g', 'f/g', 'f(g)'],\n",
    "             width=15, nrows=5, label=\"h = \"),\n",
    "      do_plot = (\"Draw Plots\", True)):\n",
    "    try:\n",
    "        f = SR(f); g = SR(g); a = SR(a)\n",
    "    except TypeError as msg:\n",
    "        print(msg[-200:])\n",
    "        print(\"Unable to make sense of f,g, or a as symbolic expressions.\")\n",
    "        return\n",
    "    if not (isinstance(xrange, tuple) and len(xrange) == 2):\n",
    "          xrange = (0,1)\n",
    "    h = 0; lbl = ''\n",
    "    if action == 'f':\n",
    "        h = f\n",
    "        lbl = 'f'\n",
    "    elif action == 'df/dx':\n",
    "        h = f.derivative(x)\n",
    "        lbl = '\\\\frac{df}{dx}'\n",
    "    elif action == 'int f':\n",
    "        h = f.integrate(x)\n",
    "        lbl = '\\\\int f dx'\n",
    "    elif action == 'num f':\n",
    "        h = f.numerator()\n",
    "        lbl = '\\\\text{numer(f)}'\n",
    "    elif action == 'den f':\n",
    "        h = f.denominator()\n",
    "        lbl = '\\\\text{denom(f)}'\n",
    "    elif action == '1/f':\n",
    "        h = 1/f\n",
    "        lbl = '\\\\frac{1}{f}'\n",
    "    elif action == 'finv':\n",
    "        h = solve(f == var('y'), x)[0].rhs()\n",
    "        lbl = 'f^{-1}(y)'\n",
    "    elif action == 'f+a':\n",
    "        h = f+a\n",
    "        lbl = 'f + a'\n",
    "    elif action == 'f-a':\n",
    "        h = f-a\n",
    "        lbl = 'f - a'\n",
    "    elif action == 'f*a':\n",
    "        h = f*a\n",
    "        lbl = 'f \\\\times a'\n",
    "    elif action == 'f/a':\n",
    "        h = f/a\n",
    "        lbl = '\\\\frac{f}{a}'\n",
    "    elif action == 'f^a':\n",
    "        h = f^a\n",
    "        lbl = 'f^a'\n",
    "    elif action == 'f^a':\n",
    "        h = f^a\n",
    "        lbl = 'f^a'\n",
    "    elif action == 'f(x+a)':\n",
    "        h = f(x+a)\n",
    "        lbl = 'f(x+a)'\n",
    "    elif action == 'f(x*a)':\n",
    "        h = f(x*a)\n",
    "        lbl = 'f(xa)'\n",
    "    elif action == 'f+g':\n",
    "        h = f+g\n",
    "        lbl = 'f + g'\n",
    "    elif action == 'f-g':\n",
    "        h = f-g\n",
    "        lbl = 'f - g'\n",
    "    elif action == 'f*g':\n",
    "        h = f*g\n",
    "        lbl = 'f \\\\times g'\n",
    "    elif action == 'f/g':\n",
    "        h = f/g\n",
    "        lbl = '\\\\frac{f}{g}'\n",
    "    elif action == 'f(g)':\n",
    "        h = f(g)\n",
    "        lbl = 'f(g)'\n",
    "    pretty_print(html('<center><font color=\"red\">$f = %s$</font></center>'%latex(f)))\n",
    "    pretty_print(html('<center><font color=\"green\">$g = %s$</font></center>'%latex(g)))\n",
    "    pretty_print(html('<center><font color=\"blue\"><b>$h = %s = %s$</b></font></center>'%(lbl, latex(h))))\n",
    "    if do_plot:\n",
    "        P = plot(f, xrange, color='red', thickness=2) +  \\\n",
    "            plot(g, xrange, color='green', thickness=2) + \\\n",
    "            plot(h, xrange, color='blue', thickness=2)\n",
    "        if yrange == 'auto':\n",
    "            show(P, xmin=xrange[0], xmax=xrange[1])\n",
    "        else:\n",
    "            yrange = sage_eval(yrange)\n",
    "            show(P, xmin=xrange[0], xmax=xrange[1], ymin=yrange[0], ymax=yrange[1])"
   ]
  },
  {
   "cell_type": "code",
   "execution_count": null,
   "metadata": {},
   "outputs": [],
   "source": []
  }
 ],
 "metadata": {
  "kernelspec": {
   "display_name": "SageMath 9.1",
   "language": "sage",
   "name": "sagemath"
  },
  "language_info": {
   "codemirror_mode": {
    "name": "ipython",
    "version": 3
   },
   "file_extension": ".py",
   "mimetype": "text/x-python",
   "name": "python",
   "nbconvert_exporter": "python",
   "pygments_lexer": "ipython3",
   "version": "3.7.3"
  }
 },
 "nbformat": 4,
 "nbformat_minor": 2
}
